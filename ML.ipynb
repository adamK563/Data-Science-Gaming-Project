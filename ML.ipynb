{
 "cells": [
  {
   "cell_type": "code",
   "execution_count": 1,
   "id": "37227237",
   "metadata": {},
   "outputs": [],
   "source": [
    "import pandas as pd\n",
    "import numpy as np\n",
    "import os\n",
    "import sklearn\n",
    "from sklearn.preprocessing import StandardScaler, MinMaxScaler\n",
    "from sklearn.linear_model import LogisticRegression\n",
    "from sklearn.model_selection import train_test_split\n",
    "import seaborn as sns\n",
    "import matplotlib.pyplot as plt\n",
    "%matplotlib inline\n",
    "from sklearn.metrics import r2_score, f1_score\n",
    "from sklearn.model_selection import cross_val_score\n",
    "from sklearn.model_selection import GridSearchCV\n",
    "import sklearn\n",
    "from sklearn import neighbors, naive_bayes, svm\n",
    "from sklearn.svm import SVC\n",
    "from sklearn import metrics\n",
    "from sklearn.metrics import accuracy_score, precision_score, recall_score, f1_score, confusion_matrix\n",
    "from sklearn.metrics import make_scorer\n",
    "from sklearn.ensemble import RandomForestClassifier, VotingClassifier"
   ]
  },
  {
   "cell_type": "code",
   "execution_count": 2,
   "id": "843f49cc",
   "metadata": {},
   "outputs": [],
   "source": [
    "def load_dataset(file_name, target_column):\n",
    "    df=pd.read_csv(file_name)\n",
    "    TRAINING_FEATURES = df.columns[(df.columns != target_column) & \n",
    "                                   (df.columns!='name')& \n",
    "                                   (df.columns!='developer')& \n",
    "                                   (df.columns!='publisher')& \n",
    "                                   (df.columns!='score')]\n",
    "\n",
    "    X = df[TRAINING_FEATURES]\n",
    "    y = df[target_column]\n",
    "    return X, y\n",
    "\n",
    "df='final_df.csv'\n",
    "X,y=load_dataset(df, 'is_successful')"
   ]
  },
  {
   "cell_type": "code",
   "execution_count": 3,
   "id": "692b0ec3",
   "metadata": {},
   "outputs": [],
   "source": [
    "#split the data to train and test\n",
    "X_train,X_test,y_train,y_test = train_test_split(X,y,test_size=0.4)"
   ]
  },
  {
   "cell_type": "code",
   "execution_count": 4,
   "id": "072c7022",
   "metadata": {
    "scrolled": false
   },
   "outputs": [
    {
     "name": "stdout",
     "output_type": "stream",
     "text": [
      "0.8279855247285887\n",
      "------------------\n",
      "This is how accurate the predictions are:\n",
      "82% on 4790 data\n"
     ]
    }
   ],
   "source": [
    "#logistic regration model\n",
    "\n",
    "#fit(train)\n",
    "def train_by_logistic(X_train, y_train):\n",
    "    trained_LogisticRegression=LogisticRegression(max_iter=10000,solver=\"lbfgs\")\n",
    "    trained_LogisticRegression.fit(X_train, y_train)\n",
    "    return trained_LogisticRegression\n",
    "\n",
    "logistic_model=train_by_logistic(X_train, y_train)\n",
    "\n",
    "#predict\n",
    "def predict_by_logistic(trained_2nd_model, X_test):\n",
    "    predicted_vals=trained_2nd_model.predict(X_test)\n",
    "    return predicted_vals\n",
    "\n",
    "predict_model=predict_by_logistic(logistic_model, X_test)\n",
    "\n",
    "#evaluate\n",
    "def evaluate_performance_by_logistic(y_test,y_predicted):\n",
    "    evaluate_value=f1_score(y_test, y_predicted)\n",
    "    return evaluate_value\n",
    "\n",
    "print(evaluate_performance_by_logistic(y_test,predict_model))\n",
    "print('------------------')\n",
    "print('This is how accurate the predictions are:\\n' + (str)((int)((evaluate_performance_by_logistic(y_test,predict_model))*100)) + '% on ' + (str)((int)(len(y)*0.5)) + ' data')"
   ]
  },
  {
   "cell_type": "code",
   "execution_count": 5,
   "id": "79eafab8",
   "metadata": {},
   "outputs": [
    {
     "name": "stdout",
     "output_type": "stream",
     "text": [
      "0.8748657357679914\n"
     ]
    }
   ],
   "source": [
    "#random forest model\n",
    "def find_best_random_forest_num_estimators(X_train, y_train):\n",
    "    parameters = {'n_estimators':[15,10] }\n",
    "    rf = RandomForestClassifier()\n",
    "    clf = GridSearchCV(rf, parameters,scoring=make_scorer(metrics.f1_score, greater_is_better=True))\n",
    "    #fit\n",
    "    clf.fit(X_train, y_train)\n",
    "    return clf\n",
    "\n",
    "#predict\n",
    "Random_Forest=find_best_random_forest_num_estimators(X_train, y_train)\n",
    "\n",
    "print(f1_score(y_test,Random_Forest.predict(X_test)))"
   ]
  },
  {
   "cell_type": "code",
   "execution_count": 6,
   "id": "1fe5743e",
   "metadata": {},
   "outputs": [
    {
     "name": "stdout",
     "output_type": "stream",
     "text": [
      "0.8868075996788868\n"
     ]
    }
   ],
   "source": [
    "#ensemble\n",
    "trained_LogisticRegression=LogisticRegression(max_iter=10000,solver=\"lbfgs\")\n",
    "rf = RandomForestClassifier(n_estimators=50, random_state=1)\n",
    "clf=svm.SVC(probability=True)    \n",
    "est_Ensemble = VotingClassifier(estimators=[('Logistic Regression', trained_LogisticRegression), ('Random Forest', rf)],voting='soft',weights=[1,1])\n",
    "est_Ensemble .fit(X_train, y_train)\n",
    "y_predicted=est_Ensemble.predict(X_test)\n",
    "print(f1_score(y_test, y_predicted))"
   ]
  }
 ],
 "metadata": {
  "kernelspec": {
   "display_name": "Python 3 (ipykernel)",
   "language": "python",
   "name": "python3"
  },
  "language_info": {
   "codemirror_mode": {
    "name": "ipython",
    "version": 3
   },
   "file_extension": ".py",
   "mimetype": "text/x-python",
   "name": "python",
   "nbconvert_exporter": "python",
   "pygments_lexer": "ipython3",
   "version": "3.9.7"
  }
 },
 "nbformat": 4,
 "nbformat_minor": 5
}
